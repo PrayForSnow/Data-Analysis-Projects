{
 "cells": [
  {
   "cell_type": "markdown",
   "id": "316a851d-3c0b-4daa-a34f-61dcbd43905c",
   "metadata": {
    "tags": []
   },
   "source": [
    "# Covid19 in Bayern\n",
    "In dem Projekt werden die Corona-Daten des RKI analysiert. Dabei werden die elementaren Schritte der **Datenanalyse** durchgeführt:\n",
    "- **Einlesen** der Daten\n",
    "- Prüfen der **Datenqualität**\n",
    "- Beseitung von Datenqualitätsproblemen sowie Anreicherung der Daten\n",
    "- **Explorative Analyse** und Ableitung von Zusammenhängen der Daten\n",
    "\n",
    "\n",
    "## Einlesen der Daten\n",
    "Analyse der *RKI*-Daten für einen entsprechenden Einblick über den Verlauf der Pandemie\n",
    "\n",
    "[Datenquelle RKI](https://www.arcgis.com/sharing/rest/content/items/66876b81065340a4a48710b062319336/data)\n",
    "\n",
    "Zusätliches Dataframe mittels *Webscraping von [Wikipedia](https://de.wikipedia.org/wiki/Liste_der_deutschen_Bundesl%C3%A4nder_nach_Bev%C3%B6lkerung)* um die Bevölkerungszahlen für die Deutschen Bundesländer zu erhalten"
   ]
  },
  {
   "cell_type": "code",
   "execution_count": 1,
   "id": "0fd592bb-0a40-4af6-986c-a439d5cceebb",
   "metadata": {
    "tags": []
   },
   "outputs": [
    {
     "name": "stdout",
     "output_type": "stream",
     "text": [
      "  IdBundesland          Bundesland IdLandkreis     Landkreis Altersgruppe  \\\n",
      "0            1  Schleswig-Holstein        1001  SK Flensburg      A00-A04   \n",
      "1            1  Schleswig-Holstein        1001  SK Flensburg      A00-A04   \n",
      "2            1  Schleswig-Holstein        1001  SK Flensburg      A00-A04   \n",
      "3            1  Schleswig-Holstein        1001  SK Flensburg      A00-A04   \n",
      "4            1  Schleswig-Holstein        1001  SK Flensburg      A00-A04   \n",
      "\n",
      "       Altersgruppe2 Geschlecht Meldedatum   Refdatum  IstErkrankungsbeginn  \\\n",
      "0  Nicht übermittelt          M 2020-09-30 2020-09-30                     0   \n",
      "1  Nicht übermittelt          M 2020-10-29 2020-10-29                     0   \n",
      "2  Nicht übermittelt          M 2020-11-03 2020-11-03                     0   \n",
      "3  Nicht übermittelt          M 2020-11-20 2020-11-19                     1   \n",
      "4  Nicht übermittelt          M 2020-11-23 2020-11-18                     1   \n",
      "\n",
      "   NeuerFall  NeuerTodesfall  NeuGenesen  AnzahlFall  AnzahlTodesfall  \\\n",
      "0          0              -9           0           1                0   \n",
      "1          0              -9           0           1                0   \n",
      "2          0              -9           0           1                0   \n",
      "3          0              -9           0           1                0   \n",
      "4          0              -9           0           1                0   \n",
      "\n",
      "   AnzahlGenesen             Datenstand  \n",
      "0              1  15.02.2022, 00:00 Uhr  \n",
      "1              1  15.02.2022, 00:00 Uhr  \n",
      "2              1  15.02.2022, 00:00 Uhr  \n",
      "3              1  15.02.2022, 00:00 Uhr  \n",
      "4              1  15.02.2022, 00:00 Uhr  \n",
      "                         2020\n",
      "Bundesland                   \n",
      "Nordrhein-Westfalen  17925570\n",
      "Bayern               13140183\n",
      "Baden-Württemberg    11103043\n",
      "Niedersachsen         8003421\n",
      "Hessen                6293154\n"
     ]
    }
   ],
   "source": [
    "# Import der benötigten Features\n",
    "import pandas as pd\n",
    "import matplotlib.pyplot as plt\n",
    "import seaborn\n",
    "plt.style.use('ggplot')\n",
    "#seaborn.set()\n",
    "\n",
    "#Einlesen der Daten - Pandas via URL\n",
    "url = \"https://www.arcgis.com/sharing/rest/content/items/66876b81065340a4a48710b062319336/data\"\n",
    "df = pd.read_csv(url , parse_dates = ['Meldedatum', 'Refdatum'])\n",
    "\n",
    "# Einlesen der Datei - Backup für Lokale CSV\n",
    "#df = pd.read_csv('RKI_COVID-19.csv' , parse_dates = ['Meldedatum', 'Refdatum'])\n",
    "\n",
    "list_category = ['IdBundesland', 'Bundesland', 'Landkreis', 'Altersgruppe', 'Geschlecht', \n",
    "                'IdLandkreis', 'Datenstand']\n",
    "list_int = ['AnzahlFall', 'Anzahl_Todesfall', 'NeuerFall', 'NeuerTodesfall']\n",
    "\n",
    "for i in list_category:\n",
    "    df.loc[:, i] = df.loc[:, i].astype('category')\n",
    "    \n",
    "#Konstanten\n",
    "ew_by100000 = 13076721 / 100000\n",
    "\n",
    "\n",
    "# Einlesen der Bevölkerungsdaten der Bundesländer mittels Webscraping auf Wikipedia\n",
    "url = 'https://de.wikipedia.org/wiki/Liste_der_deutschen_Bundesl%C3%A4nder_nach_Bev%C3%B6lkerung'\n",
    "df_ewbl = pd.read_html(url, thousands='.', decimal=',') \n",
    "\n",
    "# Anpassen der Daten um diese leichter verarbeiten zu können\n",
    "df_ewbl = df_ewbl[0].loc[:, [('Bundesland / Jahr', 'Bundesland / Jahr'), (        'Einwohner',              '2020')]]\n",
    "df_ewbl.columns = ['Bundesland', '2020'] # Benennung der Spalten\n",
    "df_ewbl.replace({'Bundesland': {'Berlin[1]': 'Berlin', 'Deutschland[2]': 'Deutschland'}}, inplace= True)\n",
    "df_ewbl.set_index('Bundesland', inplace = True) # Neuer Index\n",
    "\n",
    "# Überblick über die DataFrames\n",
    "print(df.head())\n",
    "print(df_ewbl.head())"
   ]
  },
  {
   "cell_type": "markdown",
   "id": "11052271-6ff2-4b66-b1b9-c154e6ee5905",
   "metadata": {},
   "source": [
    "\n",
    "\n",
    "Diese folgende Funktion reichert die Daten um einige benötigte bzw. gern genutzte **Kennzahlen** an. Dafür ist es notwendig, dass ein DataFrame aggregiert nach dem Meldedatum sowie die Einwohnerzahl der betrachteten Region mitgegeben wird."
   ]
  },
  {
   "cell_type": "code",
   "execution_count": 2,
   "id": "f1f46c2c-c69c-4758-a4b6-48dc87e57b15",
   "metadata": {},
   "outputs": [],
   "source": [
    "#calculate 7day average invections / deaths as well as 7-day incidenz\n",
    "def sevendayavg(df, ew_100000):\n",
    "    for i in range(1, 7):\n",
    "        df.loc[:, 'AnzahlFall-{}'.format(i)] = df.loc[:, 'AnzahlFall'].shift(i)\n",
    "        df.loc[:, 'AnzahlTodesfall-{}'.format(i)] = df.loc[:, 'AnzahlTodesfall'].shift(i)\n",
    "\n",
    "    df.loc[:, 'AVG_AnzahlFall'] = (df.loc[:, 'AnzahlFall'] +\n",
    "                                   df.loc[:, 'AnzahlFall-1'] +\n",
    "                                   df.loc[:, 'AnzahlFall-2'] +\n",
    "                                   df.loc[:, 'AnzahlFall-3'] +\n",
    "                                   df.loc[:, 'AnzahlFall-4'] +\n",
    "                                   df.loc[:, 'AnzahlFall-5'] +\n",
    "                                   df.loc[:, 'AnzahlFall-6'] ) / 7\n",
    "    df.loc[:, 'AVG_AnzahlTodesfall'] = (df.loc[:, 'AnzahlTodesfall'] +\n",
    "                                   df.loc[:, 'AnzahlTodesfall-1'] +\n",
    "                                   df.loc[:, 'AnzahlTodesfall-2'] +\n",
    "                                   df.loc[:, 'AnzahlTodesfall-3'] +\n",
    "                                   df.loc[:, 'AnzahlTodesfall-4'] +\n",
    "                                   df.loc[:, 'AnzahlTodesfall-5'] +\n",
    "                                   df.loc[:, 'AnzahlTodesfall-6'] ) / 7\n",
    "    df.loc[:, '7day_inzidenz'] = (df.loc[:, 'AnzahlFall'] +\n",
    "                                   df.loc[:, 'AnzahlFall-1'] +\n",
    "                                   df.loc[:, 'AnzahlFall-2'] +\n",
    "                                   df.loc[:, 'AnzahlFall-3'] +\n",
    "                                   df.loc[:, 'AnzahlFall-4'] +\n",
    "                                   df.loc[:, 'AnzahlFall-5'] +\n",
    "                                   df.loc[:, 'AnzahlFall-6'] ) / ew_100000\n",
    "    return df.loc[:, ['AnzahlFall', 'AVG_AnzahlFall', 'AnzahlTodesfall', 'AVG_AnzahlTodesfall', '7day_inzidenz']]"
   ]
  },
  {
   "cell_type": "markdown",
   "id": "335cf699-863d-4bbe-8ea8-ec42fa249473",
   "metadata": {},
   "source": [
    "## Data Quality checks\n",
    "Bevor die Analyse startet werden die grundlegenden Eigenschaften des Imports überprüft um sicherzustellen, dass die Import korrekt war"
   ]
  },
  {
   "cell_type": "code",
   "execution_count": 3,
   "id": "e17a491a-8071-497a-a82a-1e89164f7432",
   "metadata": {
    "tags": []
   },
   "outputs": [
    {
     "name": "stdout",
     "output_type": "stream",
     "text": [
      "Eigenschaften der Datentypen: \n",
      " IdBundesland                  category\n",
      "Bundesland                    category\n",
      "IdLandkreis                   category\n",
      "Landkreis                     category\n",
      "Altersgruppe                  category\n",
      "Altersgruppe2                   object\n",
      "Geschlecht                    category\n",
      "Meldedatum              datetime64[ns]\n",
      "Refdatum                datetime64[ns]\n",
      "IstErkrankungsbeginn             int64\n",
      "NeuerFall                        int64\n",
      "NeuerTodesfall                   int64\n",
      "NeuGenesen                       int64\n",
      "AnzahlFall                       int64\n",
      "AnzahlTodesfall                  int64\n",
      "AnzahlGenesen                    int64\n",
      "Datenstand                    category\n",
      "dtype: object \n",
      "\n",
      "Fehlende Werte: \n",
      " IdBundesland            0\n",
      "Bundesland              0\n",
      "IdLandkreis             0\n",
      "Landkreis               0\n",
      "Altersgruppe            0\n",
      "Altersgruppe2           0\n",
      "Geschlecht              0\n",
      "Meldedatum              0\n",
      "Refdatum                0\n",
      "IstErkrankungsbeginn    0\n",
      "NeuerFall               0\n",
      "NeuerTodesfall          0\n",
      "NeuGenesen              0\n",
      "AnzahlFall              0\n",
      "AnzahlTodesfall         0\n",
      "AnzahlGenesen           0\n",
      "Datenstand              0\n",
      "dtype: int64\n",
      "\n",
      "Umfang Datensatz: 3,996,961\n"
     ]
    }
   ],
   "source": [
    "# Überprüfung der Dateneigenschaften\n",
    "\n",
    "print('Eigenschaften der Datentypen: \\n {} \\n'.format(df.dtypes))\n",
    "print('Fehlende Werte: \\n {}'.format(df.isnull().sum()))\n",
    "print('\\nUmfang Datensatz: {:,}'.format(df.shape[0]))"
   ]
  },
  {
   "cell_type": "markdown",
   "id": "485009d7-2792-448b-b322-6280c531d36a",
   "metadata": {},
   "source": [
    "## Erster Blick auf die Daten\n",
    "Zu Beginn soll ein Verständniss für die Daten gewonnen werden um erste Erkenntnisse zu bekommen, welche weitere Auswertungen hier Sinn machen"
   ]
  },
  {
   "cell_type": "code",
   "execution_count": null,
   "id": "09baccb6-6b2d-4f61-ae79-13ea41a3b611",
   "metadata": {},
   "outputs": [],
   "source": [
    "# first view on the time series\n",
    "pd.crosstab(index = df['Meldedatum'].dt.dayofyear, columns = df['Meldedatum'].dt.year, values = df['AnzahlFall'], aggfunc = 'sum').plot(figsize = [10, 10])\n",
    "plt.xlabel('Tag des Jahres')\n",
    "plt.ylabel('Anzahl Infektionen')\n",
    "plt.title('Mehr infizierte im Vergleich zum Vorjahr')\n",
    "plt.show()"
   ]
  },
  {
   "cell_type": "code",
   "execution_count": null,
   "id": "797ac509-0793-49ad-9f67-5c42058b45a1",
   "metadata": {},
   "outputs": [],
   "source": [
    "pd.crosstab(index = df['Meldedatum'].dt.week, columns = df['Meldedatum'].dt.year, values = df['AnzahlFall'], aggfunc = 'sum').plot(figsize = [10,10])\n",
    "plt.title('Zeitlicher Verlauf Infektionen vs. Vorjahr, Meldedatum: {}'.format(df['Meldedatum'].max().strftime(format = '%d.%m.%Y')))\n",
    "plt.ylabel('Anzahl Infektionen')\n",
    "plt.xlabel('Kalenderwoche')\n",
    "plt.savefig('Invektionen_vs_Vorjahr_{}.png'.format(df['Meldedatum'].max().strftime(format = '%d.%m.%Y')))\n",
    "plt.show()"
   ]
  },
  {
   "cell_type": "code",
   "execution_count": null,
   "id": "e6870dc1-35a9-43bf-a672-b798b3dde409",
   "metadata": {},
   "outputs": [],
   "source": [
    "pd.crosstab(index = df['Altersgruppe'], columns = df['Meldedatum'].dt.year, values = df['AnzahlFall'], aggfunc = 'sum', normalize = 'columns').plot(kind = 'bar')\n",
    "plt.title('Im Jahr {} steigt der Anteil der jungen Infezierten deutlich an'.format(df['Meldedatum'].dt.year.max()))\n",
    "plt.ylabel('Anteil der Altersgruppe')\n",
    "plt.show()"
   ]
  },
  {
   "cell_type": "code",
   "execution_count": null,
   "id": "d97206aa-53b1-4a18-ad1e-1406b5eea943",
   "metadata": {},
   "outputs": [],
   "source": [
    "pd.crosstab(index = df['Bundesland'], columns = df['Meldedatum'].dt.year, values = df['AnzahlFall'], aggfunc = 'sum', normalize = 'columns').plot(kind = 'bar')\n",
    "plt.title('Bevölkerungsstarke Bundeländer Haupträger')\n",
    "plt.ylabel('%-Anteil der Bundesländer')\n",
    "plt.show()"
   ]
  },
  {
   "cell_type": "code",
   "execution_count": null,
   "id": "c1f06d55-ece5-482b-b4b7-ca7456676876",
   "metadata": {},
   "outputs": [],
   "source": [
    "laender = list(df['Bundesland'].unique())\n",
    "print(laender)\n",
    "\n",
    "fig, ax = plt.subplots(nrows = len(laender), figsize = [10, 100])\n",
    "\n",
    "for i, j in enumerate(laender):\n",
    "    mask = df['Bundesland'] == j\n",
    "    df_plot = df.loc[mask, :]\n",
    "    pd.crosstab(index = df_plot['Meldedatum'].dt.isocalendar().week, columns = df_plot['Meldedatum'].dt.year, \n",
    "                values = df_plot['AnzahlFall'], aggfunc = 'sum').plot(ax = ax[i])\n",
    "\n",
    "for i, j in enumerate(laender):  \n",
    "    ax[i].set_title(laender[i])\n",
    " \n",
    "\n",
    "\n",
    "plt.show()"
   ]
  },
  {
   "cell_type": "markdown",
   "id": "8a967098-6c49-4dc2-a12b-acd2d63bb012",
   "metadata": {},
   "source": [
    "# Analyse der Altersstruktur\n",
    "Infektionen und Todesfälle werden nach alter Analysiert, um das Risiko für die einzelnen Schichten abzuleiten"
   ]
  },
  {
   "cell_type": "code",
   "execution_count": null,
   "id": "d3888cb4-0685-43a7-b468-fbd543fb5dea",
   "metadata": {},
   "outputs": [],
   "source": [
    "# Analyse für Deutschland\n",
    "\n",
    "fig, ax = plt.subplots()\n",
    "mask = df['Meldedatum'] > '2021-12-15'\n",
    "df_plot = df.loc[mask, ['Altersgruppe', 'AnzahlFall']].groupby('Altersgruppe').sum()\n",
    "mult = [20, 10, 5, 100/15, 5]\n",
    "for i, j in enumerate(mult):\n",
    "    df_plot.iloc[i, 0] = df_plot.iloc[i, 0] * j\n",
    "df_plot['AnzahlFall'] = df_plot['AnzahlFall'] / df_plot['AnzahlFall'].sum()\n",
    "df_plot.plot(kind = 'bar', ax = ax, color='r', alpha = 0.5)\n",
    "\n",
    "df_plot = df.loc[mask, ['Altersgruppe', 'AnzahlTodesfall']].groupby('Altersgruppe').sum()\n",
    "df_plot.head()\n",
    "\n",
    "# Da die Altersgruppen unterschiedliche Anzahlen an Jahrgängen umfassen werden diese normalisiert um die Aussagekraft zu erhöhen\n",
    "mult = [20, 10, 5, 100/15, 5]\n",
    "for i, j in enumerate(mult):\n",
    "    df_plot.iloc[i, 0] = df_plot.iloc[i, 0] * j\n",
    "df_plot['AnzahlTodesfall'] = df_plot['AnzahlTodesfall'] / df_plot['AnzahlTodesfall'].sum()\n",
    "df_plot.plot(kind = 'bar', ax = ax, color='b', alpha = 0.5)\n",
    "\n",
    "plt.title('Todesfälle bei jungen Erkrankten deutlich seltener')\n",
    "plt.show()"
   ]
  },
  {
   "cell_type": "code",
   "execution_count": null,
   "id": "a5116213-d454-4a7f-a541-083a4ca3675f",
   "metadata": {},
   "outputs": [],
   "source": [
    "# Analyse für Bayern\n",
    "\n",
    "mask = (df.loc[:, 'Meldedatum'] > '2022-01-15') & (df.loc[:, 'Bundesland'] == 'Bayern')\n",
    "fig, ax = plt.subplots()\n",
    "df_plot = df.loc[mask, ['Altersgruppe', 'AnzahlFall']].groupby('Altersgruppe').sum()\n",
    "mult = [20, 10, 5, 100/15, 5]\n",
    "for i, j in enumerate(mult):\n",
    "    df_plot.iloc[i, 0] = df_plot.iloc[i, 0] * j\n",
    "df_plot['AnzahlFall'] = df_plot['AnzahlFall'] / df_plot['AnzahlFall'].sum()\n",
    "df_plot.plot(kind = 'bar', ax = ax, color='r', alpha = 0.5)\n",
    "\n",
    "df_plot = df.loc[mask, ['Altersgruppe', 'AnzahlTodesfall']].groupby('Altersgruppe').sum()\n",
    "df_plot.head()\n",
    "mult = [20, 10, 5, 100/15, 5]\n",
    "for i, j in enumerate(mult):\n",
    "    df_plot.iloc[i, 0] = df_plot.iloc[i, 0] * j\n",
    "df_plot['AnzahlTodesfall'] = df_plot['AnzahlTodesfall'] / df_plot['AnzahlTodesfall'].sum()\n",
    "df_plot.plot(kind = 'bar', ax = ax, color='b', alpha = 0.5)\n",
    "\n",
    "plt.title('Todesfälle bei jungen Erkrankten deutlich seltener / BAYERN')\n",
    "plt.savefig('Fall_Todesfall.png')\n",
    "plt.show()"
   ]
  },
  {
   "cell_type": "markdown",
   "id": "5a7c905b-3663-42aa-8671-02d9f9c19003",
   "metadata": {},
   "source": [
    "Obwohl sich deutlich weniger ältere Menschen anstecken ist ihr Anteil an den Todesfällen beträchtlich"
   ]
  },
  {
   "cell_type": "markdown",
   "id": "dce5a018-1d04-4193-9a73-611102e27e46",
   "metadata": {},
   "source": [
    "## Zeitlicher Verlauf\n",
    "Illustration des zeitlichen Verlaufs für Ansteckungen und  Todesfälle"
   ]
  },
  {
   "cell_type": "code",
   "execution_count": null,
   "id": "b7baefb6-f591-4fdc-ba3d-c0ef84f1c39d",
   "metadata": {
    "tags": []
   },
   "outputs": [],
   "source": [
    "df_plot = sevendayavg(df.groupby('Meldedatum')[['AnzahlFall', 'AnzahlTodesfall']].sum(), ew_by100000)\n",
    "\n",
    "# Figure mit 2 Axes für Ansteckungen u. Todesfällen\n",
    "fig, ax = plt.subplots(nrows = 2, figsize = (20, 15))\n",
    "\n",
    "# Todesfälle\n",
    "df_plot.loc[:, 'AnzahlTodesfall'].plot(ax = ax[1], alpha = 0.25, c = 'b', label = 'Anzahl Todesfälle')\n",
    "df_plot.loc[:, 'AVG_AnzahlTodesfall'].plot(ax = ax[1], c = 'b', label = '7Tage Durschschnitt Todesfälle')\n",
    "# Ansteckungen\n",
    "df_plot.loc[:, 'AnzahlFall'].plot(ax = ax[0], alpha = 0.25, c='r')\n",
    "df_plot.loc[:, 'AVG_AnzahlFall'].plot(ax = ax[0], c = 'r')\n",
    "\n",
    "# Beschrisftungen um Verständlichkeit zu erhöhen\n",
    "ax[0].set_title('Anzahl Ansteckungen Deutschland')\n",
    "ax[1].set_title('Anzahl TodesFälle Deutschland')\n",
    "ax[0].set_ylabel('Anzahl Ansteckungen')\n",
    "ax[1].set_ylabel('Anzahl Todesfälle')\n",
    "ax[0].legend(['Anzahl Ansteckungen',  '7Tage Durschschnitt Ansteckungen'])\n",
    "ax[1].legend(['Anzahl Todesfälle',  '7Tage Durschschnitt Todesfälle'])\n",
    "plt.tight_layout()\n",
    "plt.show()"
   ]
  },
  {
   "cell_type": "code",
   "execution_count": null,
   "id": "de6516ec-0a02-4f5d-875e-513dc4108959",
   "metadata": {},
   "outputs": [],
   "source": [
    "mask = df.loc[:, 'Bundesland'] == 'Bayern'\n",
    "df_plot = sevendayavg(df.loc[mask, :].groupby('Meldedatum')[['AnzahlFall', 'AnzahlTodesfall']].sum(), ew_by100000)\n",
    "fig, ax = plt.subplots(nrows = 2, figsize = (20,15))\n",
    "\n",
    "df_plot.loc[:, 'AnzahlTodesfall'].plot(ax = ax[1], alpha = 0.25, c = 'b', label = 'Anzahl Todesfälle')\n",
    "df_plot.loc[:, 'AVG_AnzahlTodesfall'].plot(ax = ax[1], c = 'b', label = '7Tage Durschschnitt Todesfälle')\n",
    "\n",
    "df_plot.loc[:, 'AnzahlFall'].plot(ax = ax[0], alpha = 0.25, c='r')\n",
    "df_plot.loc[:, 'AVG_AnzahlFall'].plot(ax = ax[0], c = 'r')\n",
    "\n",
    "\n",
    "ax[0].set_title('Anzahl Ansteckungen Bayern')\n",
    "ax[1].set_title('Anzahl TodesFälle Bayern')\n",
    "ax[0].set_ylabel('Anzahl Ansteckungen')\n",
    "ax[1].set_ylabel('Anzahl Todesfälle')\n",
    "ax[0].legend(['Anzahl Ansteckungen',  '7Tage Durschschnitt Ansteckungen'])\n",
    "ax[1].legend(['Anzahl Todesfälle',  '7Tage Durschschnitt Todesfälle'])\n",
    "plt.tight_layout()\n",
    "plt.show()"
   ]
  },
  {
   "cell_type": "code",
   "execution_count": null,
   "id": "9082025e-180a-4e43-8167-690d6e2d3d56",
   "metadata": {},
   "outputs": [],
   "source": [
    "df_plot.loc[:, '7day_inzidenz'].plot(figsize = (20, 10))\n",
    "plt.title('7-Tage Inzidenz Bayern zum {}: {:.1f}'.format(df_plot.index[-1], df_plot.iloc[-1, 4]))\n",
    "plt.ylabel('7-Tage Inzidenz')\n",
    "plt.tight_layout()\n",
    "plt.show()"
   ]
  },
  {
   "cell_type": "markdown",
   "id": "bde4f5c9-feb1-42ff-a6cf-21c50f8cd77f",
   "metadata": {},
   "source": [
    "## Vergleich der unterschiedlichen Bundesländer\n",
    "Auswertung und Visualisierung der Daten für alle Bundesländer"
   ]
  },
  {
   "cell_type": "code",
   "execution_count": null,
   "id": "9dcf6c5f-a2a3-4115-adb6-b3630dc669ad",
   "metadata": {
    "tags": []
   },
   "outputs": [],
   "source": [
    "#laender = list(df['Bundesland'].unique())[:-3]\n",
    "laender = list(df['Bundesland'].unique())\n",
    "fig, ax = plt.subplots(nrows = len(laender), figsize = (20, 100))\n",
    "\n",
    "for j, i in enumerate(laender):\n",
    "    mask = df.loc[:, 'Bundesland'] == i\n",
    "    df_plot = sevendayavg(df.loc[mask, :].groupby('Meldedatum')[['AnzahlFall', 'AnzahlTodesfall']].sum(), df_ewbl.loc[i, '2020']/100000)\n",
    "    df_plot.loc[:, '7day_inzidenz'].plot(ax = ax[j], label = i)\n",
    "    df_plot = sevendayavg(df.groupby('Meldedatum')[['AnzahlFall', 'AnzahlTodesfall']].sum(), df_ewbl.loc['Deutschland', '2020']/100000)\n",
    "    df_plot.loc[:, '7day_inzidenz'].plot(ax = ax[j], label = 'Deutschland', c = 'k')\n",
    "    ax[j].set_title(i)\n",
    "    ax[j].legend(loc='upper left')\n",
    "   \n",
    "plt.tight_layout()  \n",
    "\n",
    "plt.savefig('Inzidenzen_BL.png')\n",
    "\n",
    "plt.show()"
   ]
  }
 ],
 "metadata": {
  "kernelspec": {
   "display_name": "Python 3 (ipykernel)",
   "language": "python",
   "name": "python3"
  },
  "language_info": {
   "codemirror_mode": {
    "name": "ipython",
    "version": 3
   },
   "file_extension": ".py",
   "mimetype": "text/x-python",
   "name": "python",
   "nbconvert_exporter": "python",
   "pygments_lexer": "ipython3",
   "version": "3.9.7"
  }
 },
 "nbformat": 4,
 "nbformat_minor": 5
}
